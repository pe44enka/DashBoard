{
  "nbformat": 4,
  "nbformat_minor": 0,
  "metadata": {
    "colab": {
      "provenance": [],
      "collapsed_sections": [
        "MtpCJeuAqzaS"
      ],
      "authorship_tag": "ABX9TyOTCHV28Qvy5rFmctZxZRmn",
      "include_colab_link": true
    },
    "kernelspec": {
      "name": "python3",
      "display_name": "Python 3"
    },
    "language_info": {
      "name": "python"
    }
  },
  "cells": [
    {
      "cell_type": "markdown",
      "metadata": {
        "id": "view-in-github",
        "colab_type": "text"
      },
      "source": [
        "<a href=\"https://colab.research.google.com/github/pe44enka/DashBoard/blob/master/DashBoard.ipynb\" target=\"_parent\"><img src=\"https://colab.research.google.com/assets/colab-badge.svg\" alt=\"Open In Colab\"/></a>"
      ]
    },
    {
      "cell_type": "markdown",
      "source": [
        "# **US Domestic Airline Flights Performance Dashboard**"
      ],
      "metadata": {
        "id": "VsS59RWzq1-L"
      }
    },
    {
      "cell_type": "markdown",
      "source": [
        "![](https://img.freepik.com/premium-vector/concept-flight-delay-cancel-change-plans-tired-perplexed-upset-flight-delay-girl-sitting-luggage-waiting-departure-airport_165932-74.jpg?w=2000)"
      ],
      "metadata": {
        "id": "tZ4Mpi51rUsk"
      }
    },
    {
      "cell_type": "markdown",
      "source": [
        "### Objectives\n",
        "As a data analyst, you have been given a task to monitor and report US domestic airline flights performance to analyze the performance and improve flight reliability thereby improving customer reliability.\n",
        "\n",
        "\n",
        "---\n",
        "### Goal of the project\n",
        "Create a **dashboard** with 2 possible options of reports for particular year:\n",
        "\n",
        "* **Yearly airline performance report:**\n",
        "  * *bar chart:* monthly number of flights under different cancellation categories\n",
        "  * *line chart:* average monthly flight time (minutes) by reporting airline\n",
        "  * *pie cahrt:* percentage of diverted airport landings per reporting airline\n",
        "  * *choropleth map:* number of flights flying from each state \n",
        "  * *tree chart:* number of flights flying to each state from each reporting airline \n",
        "* **Yearly average flight delay statistics:** monthly average delay by reporting airline for the given year\n",
        "  * carrier delay\n",
        "  * weather delay\n",
        "  * national air system delay\n",
        "  * security delay \n",
        "  * late aircraft delay \n",
        "\n",
        "**Note:** Year range is between 2005 and 2020\n",
        "\n",
        "\n",
        "**Expected Layout:**\n",
        "![](https://cf-courses-data.s3.us.cloud-object-storage.appdomain.cloud/IBMDeveloperSkillsNetwork-DV0101EN-SkillsNetwork/labs/Module%205/images/Layout.png)\n",
        "\n",
        "\n",
        "\n",
        "### Techniques\n",
        "In this project I will use:\n",
        "* **Data manipulation:** pandas\n",
        "* **Chart plotting:** plotly\n",
        "* **Dashboard building:** dash\n",
        "* **Dashboard run:** ngrok\n",
        "\n",
        "---"
      ],
      "metadata": {
        "id": "kA3wmRN1Dvd8"
      }
    },
    {
      "cell_type": "markdown",
      "source": [
        "## Libraries"
      ],
      "metadata": {
        "id": "MtpCJeuAqzaS"
      }
    },
    {
      "cell_type": "markdown",
      "source": [
        "\n",
        "\n",
        "\n",
        "\n",
        "First of all, let's install and import all libraries we need.\n",
        "\n",
        "---\n",
        "\n"
      ],
      "metadata": {
        "id": "Qv6ZmlBoqp8_"
      }
    },
    {
      "cell_type": "code",
      "source": [
        "# Install Dash\n",
        "!pip install dash==0.31.1  # The core dash backend\n",
        "!pip install dash-html-components==0.13.2  # HTML components\n",
        "!pip install dash-core-components==0.39.0  # Supercharged components\n",
        "!pip install dash --upgrade\n",
        "\n",
        "# Install ngrok wrapper\n",
        "!pip install pyngrok "
      ],
      "metadata": {
        "id": "yrU0W1ndM1v_"
      },
      "execution_count": null,
      "outputs": []
    },
    {
      "cell_type": "code",
      "source": [
        "import pandas as pd\n",
        "import dash\n",
        "from dash import html\n",
        "from dash import dcc\n",
        "from dash.dependencies import Input, Output, State\n",
        "from dash import no_update\n",
        "import plotly.graph_objects as go\n",
        "import plotly.express as px\n",
        "from pyngrok import ngrok\n"
      ],
      "metadata": {
        "id": "JAMa1Rr3ngTd"
      },
      "execution_count": null,
      "outputs": []
    },
    {
      "cell_type": "markdown",
      "source": [
        "## ngrok tunnel\n"
      ],
      "metadata": {
        "id": "p9A1xYjhgqHv"
      }
    },
    {
      "cell_type": "markdown",
      "source": [
        "\n",
        "To be able to run and share Dash Web Application using a Public URL I will use secure tunneling solution called `ngrok`. To launch it you need `Authtoken` you get after registration of your free account.\n",
        "\n",
        "---\n",
        "\n"
      ],
      "metadata": {
        "id": "gqngImK1oM2M"
      }
    },
    {
      "cell_type": "code",
      "source": [
        "!ngrok authtoken # add your authtoken here"
      ],
      "metadata": {
        "id": "nIKxD6QsuU4r"
      },
      "execution_count": null,
      "outputs": []
    },
    {
      "cell_type": "code",
      "source": [
        "url = ngrok.connect(8050)\n",
        "print('Public link: ', url.public_url)"
      ],
      "metadata": {
        "id": "xRQcoZxtjHet"
      },
      "execution_count": null,
      "outputs": []
    },
    {
      "cell_type": "markdown",
      "source": [
        "\n",
        "\n",
        "---\n",
        "\n",
        "I will use this link later (after running the application) to see the result.\n",
        "\n",
        "---\n",
        "\n"
      ],
      "metadata": {
        "id": "vpCXyIR4peXk"
      }
    },
    {
      "cell_type": "markdown",
      "source": [
        "## Application Script"
      ],
      "metadata": {
        "id": "UOCtQ_8owbGz"
      }
    },
    {
      "cell_type": "markdown",
      "source": [
        "\n",
        "**Requirements:**\n",
        "* two dropdown menus: \n",
        "  * report type \n",
        "  * year\n",
        "* each dropdown: outer division with two inner divisions:\n",
        "    * information about the dropdown\n",
        "    * dropdown\n",
        "* layout for adding graphs\n",
        "* callback function to compute data, create graph and return to the layout\n",
        "\n",
        "---"
      ],
      "metadata": {
        "id": "-mgCPjQFqk7O"
      }
    },
    {
      "cell_type": "code",
      "source": [
        "### Save file with Dash app on the Google Colab machine\n",
        "#%%writefile airline_report.py\n",
        "\n",
        "# create dash app\n",
        "app = dash.Dash(__name__)\n",
        "\n",
        "\n",
        "# clear the layout and do not display exception till callback gets executed\n",
        "app.config.suppress_callback_exceptions = True\n",
        "\n",
        "# read airline data inro pandas dataframe\n",
        "airline_df = pd.read_csv('https://raw.githubusercontent.com/pe44enka/DashBoard/master/data/DelayedFlights.cvs',\n",
        "                         dtype={'Div1Airport': str, 'Div1TailNum': str, \n",
        "                                'Div2Airport': str, 'Div2TailNum': str})\n",
        "\n",
        "# list of years\n",
        "year_list = [i for i in range(2005, 2021)]\n",
        "\n",
        "\n",
        "'''\n",
        "Compute graph data for creating yearly airline performance report.\n",
        "Function that takes airline data as input and create 5 dataframes based on the grouping condition to be used for plotting charts and graphs.\n",
        "Arguments: \n",
        "  df: airline dataframe\n",
        "Returns:\n",
        "  computed dataframes for cancelation category count, average flight time by reporting airline, deverted airport landing, source state count, destination state count\n",
        "'''\n",
        "def compute_data_choice_1(df):\n",
        "  # cancelation category count\n",
        "  bar_data = df.groupby(['Month', 'CancellationCode'])['Flights'].sum().reset_index()\n",
        "  # average flight time by reporting airline\n",
        "  line_data = df.groupby(['Month', 'Reporting_Airline'])['AirTime'].mean().reset_index()\n",
        "  # diverted airport landing\n",
        "  div_data = df[df['DivAirportLandings']!=0.0]\n",
        "  # source state count\n",
        "  map_data = df.groupby(['OriginState'])['Flights'].sum().reset_index()\n",
        "  # destination state count\n",
        "  tree_data = df.groupby(['DestState', 'Reporting_Airline'])['Flights'].sum().reset_index()\n",
        "  return bar_data, line_data, div_data, map_data, tree_data\n",
        "\n",
        "\n",
        "'''\n",
        "Compute graph data for creating Yearly average flight delay statistics.\n",
        "Function that takes airline data as input and create 5 dataframes based on grouping condition to be used for plotting chart and graphs.\n",
        "Arguments:\n",
        "  df: airline dataframe\n",
        "Returns:\n",
        "  computed average dataframes for carrier delay, weather delay, NAS delay, and late aircraft delay\n",
        "'''\n",
        "def compute_data_choice_2(df):\n",
        "  # compute delay average\n",
        "  avg_car = df.groupby(['Month', 'Reporting_Airline'])['CarrierDelay'].mean().reset_index()\n",
        "  avg_weather = df.groupby(['Month', 'Reporting_Airline'])['WeatherDelay'].mean().reset_index()\n",
        "  avg_NAS = df.groupby(['Month', 'Reporting_Airline'])['NASDelay'].mean().reset_index()\n",
        "  avg_sec = df.groupby(['Month', 'Reporting_Airline'])['SecurityDelay'].mean().reset_index()\n",
        "  avg_late = df.groupby(['Month', 'Reporting_Airline'])['LateAircraftDelay'].mean().reset_index()\n",
        "  return avg_car, avg_weather, avg_NAS, avg_sec, avg_late\n",
        "\n",
        "\n",
        "# application layout\n",
        "app.layout = html.Div(children = [# title of dash board\n",
        "                                  html.H1('US Domestic Airline Flights Performance', \n",
        "                                          style={'textAlign':'center', 'color':'#503D36', 'font-size':24}),\n",
        "                                  # outer division\n",
        "                                  html.Div([#first inner division\n",
        "                                            html.Div([# helper text for report type\n",
        "                                                      html.Div([html.H2('Report Type:',\n",
        "                                                                        style={'margin-right':'2em'}),]),\n",
        "                                                      # report type dropdown\n",
        "                                                      dcc.Dropdown(id='input-type',\n",
        "                                                                   options=[{'label':'Yearly Airline Performance Report', 'value':'OPT1'},\n",
        "                                                                            {'label': \"Yearly Airline Delay Report\", 'value':'OPT2'}],\n",
        "                                                                   placeholder='Select a report type',\n",
        "                                                                   style={'width':'80%', 'padding':'3px', 'font-size':'20px', 'textAlign':'center'})],\n",
        "                                                     style={'display':'flex'}),\n",
        "                                            #second inner division\n",
        "                                            html.Div([# helper text for choosing year\n",
        "                                                      html.Div([html.H2('Choose year:',\n",
        "                                                                       style={'margin-right':'2em'}),]),\n",
        "                                                      # year dropdown\n",
        "                                                      dcc.Dropdown(id='input-year',\n",
        "                                                                   options=[{'label':i, 'value':i} for i in year_list],\n",
        "                                                                   placeholder='Select a year',\n",
        "                                                                   style={'width':'80%', 'padding':'3px', 'font-size':'20px', 'textAlign':'center'})],\n",
        "                                                     style={'display':'flex'})\n",
        "                                            ]),\n",
        "                                  # division for graph No1\n",
        "                                  html.Div([ ], id='plot1'),\n",
        "                                  # division for grsph No2, No3\n",
        "                                  html.Div([html.Div([], id='plot2'), # div for graph No2\n",
        "                                            html.Div([], id='plot3')], # div for graph No3 \n",
        "                                            style={'display':'flex'}),\n",
        "                                  # division for graph No4, No5\n",
        "                                  html.Div([html.Div([], id='plot4'), # div for graph No4\n",
        "                                            html.Div([], id='plot5')], # div for graph No5\n",
        "                                            style={'display':'flex'}) \n",
        "                                  ])\n",
        "\n",
        "\n",
        "# callback function definition\n",
        "@app.callback(#output\n",
        "              [Output(component_id='plot1', component_property='children'),\n",
        "               Output(component_id='plot2', component_property='children'),\n",
        "               Output(component_id='plot3', component_property='children'),\n",
        "               Output(component_id='plot4', component_property='children'),\n",
        "               Output(component_id='plot5', component_property='children')],\n",
        "              # input\n",
        "              [Input(component_id='input-type', component_property='value'), \n",
        "               Input(component_id='input-year', component_property='value')],\n",
        "              # holding output state till user enters all the form info\n",
        "              [State('plot1', 'children'),\n",
        "               State('plot2', 'children'),\n",
        "               State('plot3', 'children'),\n",
        "               State('plot4', 'children'),\n",
        "               State('plot5', 'children')])\n",
        "\n",
        "# add computation to callback function and return graphs\n",
        "def get_graph(chart, year, children1, children2, c3, c4, c5):\n",
        "\n",
        "  #select data\n",
        "  df = airline_df[airline_df['Year']==int(year)]\n",
        "\n",
        "  if chart == 'OPT1':\n",
        "    # compute required data for creating graphs\n",
        "    bar_data, line_data, pie_data, map_data, tree_data = compute_data_choice_1(df)\n",
        "    # number of flights vs cancellation category\n",
        "    bar_fig = px.bar(bar_data, x='Month', y='Flights', color='CancellationCode', title='Monthly flight cancellation')\n",
        "    # evarage flight time by reporting airline\n",
        "    line_fig = px.line(line_data, x='Month', y='AirTime', color='Reporting_Airline', title='Average monthly flight time (minutes) by reporting airline')\n",
        "    # percentages of deverted airport landings\n",
        "    pie_fig = px.pie(pie_data, values='Flights', names='Reporting_Airline', title='% of diverted airport landing by reporting airline')\n",
        "    # map of flights from each state\n",
        "    map_fig = px.choropleth(map_data,\n",
        "                            locations='OriginState',\n",
        "                            color='Flights',\n",
        "                            hover_data=['OriginState', 'Flights'],\n",
        "                            locationmode = 'USA-states', # set to plot as US States\n",
        "                            color_continuous_scale = 'GnBu',\n",
        "                            range_color=[0,map_data['Flights'].max()])\n",
        "    map_fig.update_layout(title_text='Number of flights flying from each state', \n",
        "                          geo_scope='usa') #plot only usa instead of globe\n",
        "    # number of flights flying to each state from each reporting airline\n",
        "    tree_fig = px.treemap(tree_data,\n",
        "                          path=['DestState', 'Reporting_Airline'],\n",
        "                          values='Flights',\n",
        "                          color='Flights',\n",
        "                          color_continuous_scale='RdBu',\n",
        "                          title='Flight count by airline to destination state')\n",
        "    # return dcc.Graphs component to the empty divisions\n",
        "    return [dcc.Graph(figure=tree_fig),\n",
        "            dcc.Graph(figure=pie_fig),\n",
        "            dcc.Graph(figure=map_fig),\n",
        "            dcc.Graph(figure=bar_fig),\n",
        "            dcc.Graph(figure=line_fig)]\n",
        "\n",
        "  else:\n",
        "    # compute required data for creating graphs\n",
        "    avg_car, avg_weather, avg_NAS, avg_sec, avg_late = compute_data_choice_2(df)\n",
        "    # monthly average carrier delay by reporting airline for the given year\n",
        "    car_fig = px.line(avg_car, x='Month', y='CarrierDelay', color='Reporting_Airline', \n",
        "                      title='Monthly average carrier delay by reporting airline for the given year')\n",
        "    # monthly average weather delay by reporting airline for the given year\n",
        "    weather_fig = px.line(avg_weather, x='Month', y='WeatherDelay', color='Reporting_Airline', \n",
        "                          title='Monthly average weather delay by reporting airline for the given year')\n",
        "    # monthly average NAS delay by reporting airline for the given year\n",
        "    NAS_fig = px.line(avg_NAS, x='Month', y='NASDelay', color='Reporting_Airline', \n",
        "                      title='Monthly average NAS delay by reporting airline for the given year')\n",
        "    # monthly average security delay by reporting airline for the given year\n",
        "    sec_fig = px.line(avg_sec, x='Month', y='SecurityDelay', color='Reporting_Airline', \n",
        "                      title='Monthly average security delay by reporting airline for the given year')\n",
        "    # monthly average late aircraft delay by reporting airline for the given year\n",
        "    late_fig = px.line(avg_late, x='Month', y='LateAircraftDelay', color='Reporting_Airline', \n",
        "                      title='Monthly average late aircraft delay by reporting airline for the given year')\n",
        "    # return dcc.Graphs component to the empty divisions\n",
        "    return [dcc.Graph(figure=car_fig),\n",
        "            dcc.Graph(figure=weather_fig),\n",
        "            dcc.Graph(figure=NAS_fig),\n",
        "            dcc.Graph(figure=sec_fig),\n",
        "            dcc.Graph(figure=late_fig)]\n",
        "\n",
        "# run the app\n",
        "if __name__ == '__main__':\n",
        "  app.run_server()\n"
      ],
      "metadata": {
        "id": "0b8QCv4oqEVe"
      },
      "execution_count": null,
      "outputs": []
    },
    {
      "cell_type": "markdown",
      "source": [
        "---\n",
        "\n",
        "After running the application, follow the link created above to see the dashboard. Enjoy!\n",
        "\n",
        "---"
      ],
      "metadata": {
        "id": "gxdf9bEhp2i4"
      }
    }
  ]
}